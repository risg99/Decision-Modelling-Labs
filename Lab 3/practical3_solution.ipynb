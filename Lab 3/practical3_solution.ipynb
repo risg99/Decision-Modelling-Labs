{
 "cells": [
  {
   "cell_type": "markdown",
   "id": "0d4386fa",
   "metadata": {},
   "source": [
    "# Imports"
   ]
  },
  {
   "cell_type": "code",
   "execution_count": 86,
   "id": "5b454f6c",
   "metadata": {},
   "outputs": [],
   "source": [
    "import pandas as pd\n",
    "import numpy as np\n",
    "import random\n",
    "import operator"
   ]
  },
  {
   "cell_type": "markdown",
   "id": "eec983e4",
   "metadata": {},
   "source": [
    "Read the CSV file"
   ]
  },
  {
   "cell_type": "code",
   "execution_count": 87,
   "id": "6434bd3b",
   "metadata": {},
   "outputs": [
    {
     "name": "stdout",
     "output_type": "stream",
     "text": [
      "[['b' 'a' 'c' 'd' 'e' 'f' 'g']\n",
      " ['a' 'c' 'd' 'b' 'e' 'f' 'g']\n",
      " ['a' 'd' 'b' 'c' 'e' 'f' 'g']\n",
      " ['c' 'a' 'd' 'b' 'e' 'f' 'g']\n",
      " ['d' 'c' 'a' 'b' 'e' 'f' 'g']]\n",
      "[ 6 12 13 10  8]\n"
     ]
    }
   ],
   "source": [
    "# Replace file name/path if needed\n",
    "data = pd.read_csv('q6_example.csv')\n",
    "\n",
    "# Extract the voter preferences into a matrix\n",
    "preferences_matrix = data.iloc[:, 1:].values\n",
    "\n",
    "# Extract the number of voters for each set of preferences\n",
    "num_voters = data['Voters'].values\n",
    "\n",
    "# show the preferences \n",
    "print(preferences_matrix)\n",
    "\n",
    "# show the number of voters\n",
    "print(num_voters)"
   ]
  },
  {
   "cell_type": "code",
   "execution_count": 88,
   "id": "83d0fbc0",
   "metadata": {},
   "outputs": [
    {
     "name": "stdout",
     "output_type": "stream",
     "text": [
      "total number of voters: 49\n"
     ]
    }
   ],
   "source": [
    "# sum the number of total votes\n",
    "total_voters = np.sum(num_voters)\n",
    "print (f\"total number of voters: {total_voters}\")"
   ]
  },
  {
   "cell_type": "code",
   "execution_count": 89,
   "id": "21702d4a",
   "metadata": {},
   "outputs": [
    {
     "name": "stdout",
     "output_type": "stream",
     "text": [
      "total number of voters: 7\n"
     ]
    }
   ],
   "source": [
    "# get the number of candidates\n",
    "total_candidites = len(preferences_matrix[0])\n",
    "print (f\"total number of voters: {total_candidites}\")"
   ]
  },
  {
   "cell_type": "code",
   "execution_count": 90,
   "id": "d71ea66f",
   "metadata": {},
   "outputs": [
    {
     "data": {
      "text/plain": [
       "{'a', 'b', 'c', 'd', 'e', 'f', 'g'}"
      ]
     },
     "execution_count": 90,
     "metadata": {},
     "output_type": "execute_result"
    }
   ],
   "source": [
    "# get list of condidates, orderd alphapatically! \n",
    "candidates_list = set(preferences_matrix[0])\n",
    "candidates_list"
   ]
  },
  {
   "cell_type": "code",
   "execution_count": 91,
   "id": "c99b468f",
   "metadata": {},
   "outputs": [],
   "source": [
    "def SimpleMajorityRulefor2(preferences_matrix, num_voters, candidate_a, candidate_b):\n",
    "    \n",
    "    '''\n",
    "    In this Simple Majority Rule, \n",
    "        1) we don't take order of preferences of other candidates \n",
    "        2) we don't check absolute majority (> 50% of the votes)\n",
    "        3) in case of the ties, we define what is the rule to handle it (in our case, candidate A will be winner)\n",
    "     \n",
    "    Params:\n",
    "         a) preferences_matrix: <numpy.ndarray> \n",
    "                 Description:    a matrix that defines the preferences for example:\n",
    "                                 [['a' 'b' 'c' 'd']\n",
    "                                 ['a' 'c' 'b' 'd']\n",
    "                                 ['d' 'b' 'a' 'c']\n",
    "                                 ['d' 'b' 'c' 'a']\n",
    "                                 ['c' 'b' 'a' 'd']\n",
    "                                 ['d' 'c' 'b' 'a']], where rows represent ordered voting preference\n",
    "                             \n",
    "        b) num_voters: <numpy.ndarray>\n",
    "                Description:    represent a vector for number of voters for each preference, for example:\n",
    "                                [5 4 2 6 8 2], where each item represnt the number of voters in \n",
    "                                each preference, in our example it means 5 votes for preference ['a' 'b' 'c' 'd']\n",
    "                                \n",
    "        c) candidate_a: <string> \n",
    "                Description:    the first candidate to check his votes, for example 'a', 'b', ...etc.\n",
    "                \n",
    "        d) candidate_b: <string> \n",
    "                Description:    the second candidate to check his votes, for example 'a', 'b', ...etc.\n",
    "        \n",
    "    '''\n",
    "    # confirm the candidates are in the list\n",
    "    if candidate_a not in set(preferences_matrix[0]) or candidate_b not in set(preferences_matrix[0]):\n",
    "        return \"Candidates are not on the voting matrix, no winner\", -1, -1 \n",
    "    \n",
    "    # initialize the counters \n",
    "    a_count, b_count = 0, 0\n",
    "    \n",
    "    # idx for the voters counter \n",
    "    idx = 0 \n",
    "    \n",
    "    # loop over the preference matrix\n",
    "    for preference in preferences_matrix:\n",
    "        \n",
    "        # Find the indices of the two candidates in the preferences matrix\n",
    "        a_idx = np.where(preference == candidate_a)[0][0]\n",
    "        b_idx = np.where(preference == candidate_b)[0][0]\n",
    "\n",
    "        # check if a_idx is higher b_idx then, b is prefered over a\n",
    "        if a_idx > b_idx:\n",
    "            \n",
    "            # increase the counter for b\n",
    "            b_count += num_voters[idx]\n",
    "        \n",
    "        # here we have b_idx > a_idx, then a is prefered over b\n",
    "        else:\n",
    "            a_count += num_voters[idx]\n",
    "\n",
    "        # increment the idx for the voters in general to keep track of voters\n",
    "        idx += 1\n",
    "\n",
    "    # based on the definition, if we have tie, then A is return as winner        \n",
    "    if a_count >= b_count:\n",
    "        return candidate_a, candidate_b, a_count, b_count\n",
    "    elif b_count > a_count:\n",
    "        return candidate_b, candidate_a, b_count, a_count"
   ]
  },
  {
   "cell_type": "code",
   "execution_count": 92,
   "id": "b770708b",
   "metadata": {},
   "outputs": [
    {
     "name": "stdout",
     "output_type": "stream",
     "text": [
      "The winner according to Simple Majority Rule between\n",
      "\tcandidate_1: a, with 43 votes,\n",
      "\tcandidate_2: b, with 6 votes,\u001b[1m\n",
      "\tWinner: a \u001b[0m\n"
     ]
    }
   ],
   "source": [
    "# Candidates to compare\n",
    "candidate_a = 'a'\n",
    "candidate_b = 'b'\n",
    "\n",
    "# Calculate the winner between 'a' and 'b'\n",
    "simple_majority_winner, simple_majority_loser, simple_majority_winner_count, simple_majority_loser_count = SimpleMajorityRulefor2(preferences_matrix, \n",
    "                                                                                                                                    num_voters, \n",
    "                                                                                                                                    candidate_a, \n",
    "                                                                                                                                    candidate_b)\n",
    "\n",
    "# print(f\"The winner according to Simple Majority Rule between\\n\\tcandidate_a: {candidate_a},\" +\n",
    "#       f\" with {candidate_a_count} votes,\\n\\tcandidate_b: {candidate_b}, with {candidate_b_count}\"+\n",
    "#       f\" votes,\\033[1m\\n\\tWinner: {simple_majority_winner} \\033[0m\")\n",
    "\n",
    "print(f\"The winner according to Simple Majority Rule between\\n\\tcandidate_1: {simple_majority_winner},\" +\n",
    "      f\" with {simple_majority_winner_count} votes,\\n\\tcandidate_2: {simple_majority_loser}, with {simple_majority_loser_count}\"+\n",
    "      f\" votes,\\033[1m\\n\\tWinner: {simple_majority_winner} \\033[0m\")"
   ]
  },
  {
   "cell_type": "code",
   "execution_count": 93,
   "id": "4c122075",
   "metadata": {},
   "outputs": [],
   "source": [
    "def Plurality(preferences_matrix, num_voters):\n",
    "    '''\n",
    "    In this function we will implement plurality voting rules\n",
    "        1) in this rule, we will take care of the first preference only \n",
    "        2) it has only one round\n",
    "        3) we implemented random tie breaking rule in case of ties results\n",
    "        \n",
    "    Params: \n",
    "         a) preferences_matrix: <numpy.ndarray> \n",
    "                 Description:    a matrix that defines the preferences for example:\n",
    "                                 [['a' 'b' 'c' 'd']\n",
    "                                 ['a' 'c' 'b' 'd']\n",
    "                                 ['d' 'b' 'a' 'c']\n",
    "                                 ['d' 'b' 'c' 'a']\n",
    "                                 ['c' 'b' 'a' 'd']\n",
    "                                 ['d' 'c' 'b' 'a']]   , rows represents ordered voting preference\n",
    "                             \n",
    "        b) num_voters: <numpy.ndarray>\n",
    "                Description:    represent a vector for number of voters for each preference, for example:\n",
    "                                [5 4 2 6 8 2], where each item represnt the number of voters in \n",
    "                                each preference, in our example it means 5 votes for preference ['a' 'b' 'c' 'd']\n",
    "                                \n",
    "    '''\n",
    "    # extract the first column in the preferences matrix (first preference)\n",
    "    first_vote_list = [preference[0] for preference in preferences_matrix]\n",
    "    \n",
    "    # initialize a hash table with structure candidate:0 to be used later as counter\n",
    "    candidates_votes = {item: 0 for item in first_vote_list}\n",
    "    \n",
    "    # idx for the number of voters counter\n",
    "    idx = 0 \n",
    "    \n",
    "    # loop over the votes, and count the votes per candidate\n",
    "    for vote in first_vote_list:\n",
    "        # update the number of voters for each candidate from the hash table\n",
    "        candidates_votes[vote] = candidates_votes.get(vote) + num_voters[idx]\n",
    "        \n",
    "        # increase the voters index number\n",
    "        idx += 1\n",
    "        \n",
    "    # extract highest number of votes in the hash table   \n",
    "    max_value = max(candidates_votes.values())\n",
    "    \n",
    "    # group all candidate who has number of votes == max number (to handle ties)\n",
    "    candidates_with_max_value = [candidate for candidate, value in candidates_votes.items() if value == max_value]\n",
    "    \n",
    "    # return the candidate with highest vote (randomized if ties)\n",
    "    return random.choice(candidates_with_max_value), max_value"
   ]
  },
  {
   "cell_type": "code",
   "execution_count": 94,
   "id": "5688e1d0",
   "metadata": {},
   "outputs": [
    {
     "name": "stdout",
     "output_type": "stream",
     "text": [
      "The winner according to Plurality Rule \u001b[1m\n",
      "\tWinner: a \u001b[0m with 25 votes\n"
     ]
    }
   ],
   "source": [
    "plurality_winner, plurality_winner_votes_number = Plurality(preferences_matrix, num_voters)\n",
    "print(f\"The winner according to Plurality Rule \\033[1m\\n\\tWinner: {plurality_winner} \\033[0m with {plurality_winner_votes_number} votes\")"
   ]
  },
  {
   "cell_type": "code",
   "execution_count": 95,
   "id": "65d7024c",
   "metadata": {},
   "outputs": [],
   "source": [
    "def PluralityRunOff(preferences_matrix, num_voters):\n",
    "    '''\n",
    "    In this function we will implement plurality run off voting rules\n",
    "        1) in this rule, we will take care of the first preference only \n",
    "        2) it has two rounds\n",
    "        3) we implemented random tie breaking rule in case of ties results\n",
    "        \n",
    "    Params: \n",
    "         a) preferences_matrix: <numpy.ndarray> \n",
    "                 Description:    a matrix that defines the preferences for example:\n",
    "                                 [['a' 'b' 'c' 'd']\n",
    "                                 ['a' 'c' 'b' 'd']\n",
    "                                 ['d' 'b' 'a' 'c']\n",
    "                                 ['d' 'b' 'c' 'a']\n",
    "                                 ['c' 'b' 'a' 'd']\n",
    "                                 ['d' 'c' 'b' 'a']]   , rows represents ordered voting preference\n",
    "                             \n",
    "        b) num_voters: <numpy.ndarray>\n",
    "                Description:    represent a vector for number of voters for each preference, for example:\n",
    "                                [5 4 2 6 8 2], where each item represnt the number of voters in \n",
    "                                each preference, in our example it means 5 votes for preference ['a' 'b' 'c' 'd']\n",
    "                                \n",
    "    '''\n",
    "    # extract the first column in the preferences matrix (first preference)\n",
    "    first_vote_list = [preference[0] for preference in preferences_matrix]\n",
    "    \n",
    "    # initialize a hash table with structure candidate:0 to be used later as counter\n",
    "    candidates_votes = {item: 0 for item in first_vote_list}\n",
    "    \n",
    "    # idx for the number of voters counter\n",
    "    idx = 0 \n",
    "    \n",
    "    # loop over the votes, and count the votes per candidate\n",
    "    for vote in first_vote_list:\n",
    "\n",
    "        # update the number of voters for each candidate from the hash table\n",
    "        candidates_votes[vote] = candidates_votes.get(vote) + num_voters[idx]\n",
    "        \n",
    "        # increase the voters index number\n",
    "        idx += 1\n",
    "        \n",
    "    # extract highest number of votes in the hash table   \n",
    "    max_value = max(candidates_votes.values())\n",
    "\n",
    "    # ordering the candidate votes in descending order by the number of votes\n",
    "    candidates_votes = dict(sorted(candidates_votes.items(), key=operator.itemgetter(1), reverse = True))\n",
    "    \n",
    "    # get total number of voters:\n",
    "    total_voters = np.sum(num_voters)\n",
    "    \n",
    "    # group all candidate who has number of votes >= 0.5*max number to proceed to round two\n",
    "    candidates_winning_first_round = [candidate for candidate, value in candidates_votes.items() if value >= 0.5*total_voters]\n",
    "    \n",
    "    candidates_with_max_value = []\n",
    "    # check if the winner has more than 50%, then he wins, in case of ties, random selection \n",
    "    if candidates_winning_first_round:\n",
    "        # group all candidate who has number of votes == max number (to handle ties)\n",
    "        candidates_with_max_value = [candidate for candidate, value in candidates_votes.items() if value == max_value]\n",
    "    \n",
    "        # return the candidate with highest vote (randomized if ties)\n",
    "        return random.choice(candidates_with_max_value), max_value\n",
    "    \n",
    "    candidates_for_second_round = list(dict(sorted(candidates_votes.items(), key=operator.itemgetter(1), reverse = True)).keys())\n",
    "    print(f\"No one has votes >50%, going with the second round with candidates_a: {candidates_for_second_round[0]}, and candidate_b: {candidates_for_second_round[1]}\")\n",
    "    \n",
    "    # if no one has more than 50%, then do second round        \n",
    "    candidate_winning_round_two, candidate_losing_round_two, winner_count, loser_count = SimpleMajorityRulefor2(preferences_matrix, num_voters, candidates_for_second_round[0], candidates_for_second_round[1])\n",
    "    \n",
    "    return candidate_winning_round_two, winner_count"
   ]
  },
  {
   "cell_type": "code",
   "execution_count": 96,
   "id": "99ae3679",
   "metadata": {},
   "outputs": [
    {
     "name": "stdout",
     "output_type": "stream",
     "text": [
      "The winner according to Plurality RunOff Rule \u001b[1m\n",
      "\tWinner: a \u001b[0m with 25 votes\n"
     ]
    }
   ],
   "source": [
    "plurality_runoff_winner, plurality_runoff_winner_votes_number = PluralityRunOff(preferences_matrix, num_voters)\n",
    "print(f\"The winner according to Plurality RunOff Rule \\033[1m\\n\\tWinner: {plurality_runoff_winner} \\033[0m with {plurality_runoff_winner_votes_number} votes\")"
   ]
  },
  {
   "cell_type": "code",
   "execution_count": 97,
   "id": "2b8e91ea",
   "metadata": {},
   "outputs": [],
   "source": [
    "def CordocetVoting(preferences_matrix, num_voters):\n",
    "    '''\n",
    "    In this function we will implement Condorcet voting rule\n",
    "        1) in this rule, we will take care of the first preference only \n",
    "        2) it has one rounds\n",
    "        3) we implemented random tie breaking rule in case of ties results\n",
    "        \n",
    "    Params: \n",
    "         a) preferences_matrix: <numpy.ndarray> \n",
    "                 Description:    a matrix that defines the preferences for example:\n",
    "                                 [['a' 'b' 'c' 'd']\n",
    "                                 ['a' 'c' 'b' 'd']\n",
    "                                 ['d' 'b' 'a' 'c']\n",
    "                                 ['d' 'b' 'c' 'a']\n",
    "                                 ['c' 'b' 'a' 'd']\n",
    "                                 ['d' 'c' 'b' 'a']]   , rows represents ordered voting preference\n",
    "                             \n",
    "        b) num_voters: <numpy.ndarray>\n",
    "                Description:    represent a vector for number of voters for each preference, for example:\n",
    "                                [5 4 2 6 8 2], where each item represnt the number of voters in \n",
    "                                each preference, in our example it means 5 votes for preference ['a' 'b' 'c' 'd']\n",
    "                                \n",
    "    '''\n",
    "    # extract the first column in the preferences matrix (first preference)\n",
    "    candidates = sorted(preferences_matrix[0])\n",
    "\n",
    "    for candidate1 in candidates:\n",
    "        \n",
    "        condorcet = True\n",
    "\n",
    "        for candidate2 in candidates:\n",
    "            if candidate1 == candidate2:\n",
    "                continue\n",
    "            \n",
    "            # initialize the counters \n",
    "            candidate1_count, candidate2_count = 0, 0\n",
    "            \n",
    "            # idx for the voters counter \n",
    "            idx = 0 \n",
    "            \n",
    "            # loop over the preference matrix\n",
    "            for preference in preferences_matrix:\n",
    "                \n",
    "                # Find the indices of the two candidates in the preferences matrix\n",
    "                a_idx = np.where(preference == candidate1)[0][0]\n",
    "                b_idx = np.where(preference == candidate2)[0][0]\n",
    "\n",
    "                # check if a_idx is higher b_idx then, b is prefered over a\n",
    "                if a_idx > b_idx:\n",
    "                    \n",
    "                    # increase the counter for b\n",
    "                    candidate2_count += num_voters[idx]\n",
    "                \n",
    "                # here we have b_idx > a_idx, then a is prefered over b\n",
    "                else:\n",
    "                    candidate1_count += num_voters[idx]\n",
    "\n",
    "                # increment the idx for the voters in general to keep track of voters\n",
    "                idx += 1\n",
    "\n",
    "            if candidate1_count < candidate2_count:\n",
    "                condorcet = False\n",
    "                break\n",
    "\n",
    "        if condorcet:\n",
    "            return candidate1, candidate1_count\n",
    "        \n",
    "    return None, 0"
   ]
  },
  {
   "cell_type": "code",
   "execution_count": 98,
   "id": "a38ccadf",
   "metadata": {},
   "outputs": [
    {
     "name": "stdout",
     "output_type": "stream",
     "text": [
      "The winner according to Cordocet Voting Rule \u001b[1m\n",
      "\tWinner: a \u001b[0m with 49 votes\n"
     ]
    }
   ],
   "source": [
    "cordocet_winner, cordocet_winner_votes = CordocetVoting(preferences_matrix, num_voters)\n",
    "if cordocet_winner is not None:\n",
    "    print(f\"The winner according to Cordocet Voting Rule \\033[1m\\n\\tWinner: {cordocet_winner} \\033[0m with {cordocet_winner_votes} votes\")\n",
    "else:\n",
    "    print(\"There is no Cordocet winner for this list of preferences.\")"
   ]
  },
  {
   "cell_type": "code",
   "execution_count": 105,
   "id": "2c7601ee",
   "metadata": {},
   "outputs": [],
   "source": [
    "def BordaVoting(preferences_matrix, num_voters):\n",
    "    '''\n",
    "    In this function we will implement Borda Voting rule\n",
    "        1) in this rule, the preferences of voters are indexed in ascending order: [preference1 (index1) > preference2 (index2), etc.]\n",
    "        2) candidate with minimum votes is returned at the end\n",
    "        3) it has only one round\n",
    "        4) in case of ties, random selection \n",
    "        \n",
    "    Params: \n",
    "         a) preferences_matrix: <numpy.ndarray> \n",
    "                 Description:    a matrix that defines the preferences for example:\n",
    "                                 [['a' 'b' 'c' 'd']\n",
    "                                 ['a' 'c' 'b' 'd']\n",
    "                                 ['d' 'b' 'a' 'c']\n",
    "                                 ['d' 'b' 'c' 'a']\n",
    "                                 ['c' 'b' 'a' 'd']\n",
    "                                 ['d' 'c' 'b' 'a']]   , rows represents ordered voting preference\n",
    "                             \n",
    "        b) num_voters: <numpy.ndarray>\n",
    "                Description:    represent a vector for number of voters for each preference, for example:\n",
    "                                [5 4 2 6 8 2], where each item represnt the number of voters in \n",
    "                                each preference, in our example it means 5 votes for preference ['a' 'b' 'c' 'd']\n",
    "                                \n",
    "    '''   \n",
    "\n",
    "    # initialize a hash table with structure candidate:0 to be used later as counter\n",
    "    borda_score = {item: 0 for item in preferences_matrix[0]}\n",
    "\n",
    "    # initialize a counter \n",
    "    idx = 0\n",
    "\n",
    "    # evaluate borda scores for each candidate\n",
    "    for preference in preferences_matrix:\n",
    "        for index, candidate in enumerate(preference):\n",
    "            borda_score[candidate] += (index + 1) * num_voters[idx]\n",
    "        idx += 1\n",
    "\n",
    "    # handle ties in case it exists \n",
    "    min_value = min(borda_score.items(), key=operator.itemgetter(1))[1]\n",
    "    # group all candidate who has number of votes == max number (to handle ties)\n",
    "    candidates_with_min_value = [candidate for candidate, value in borda_score.items() if value == min_value]\n",
    "    \n",
    "    # return the candidate with highest vote (randomized if ties)\n",
    "    return random.choice(candidates_with_min_value), min_value"
   ]
  },
  {
   "cell_type": "code",
   "execution_count": 106,
   "id": "64cc7f9c",
   "metadata": {},
   "outputs": [
    {
     "name": "stdout",
     "output_type": "stream",
     "text": [
      "{'b': 165, 'a': 81, 'c': 120, 'd': 124, 'e': 245, 'f': 294, 'g': 343}\n",
      "The winner according to Borda Voting Rule \u001b[1m\n",
      "\tWinner: a \u001b[0m with 81 votes\n"
     ]
    }
   ],
   "source": [
    "borda_winner, borda_winner_votes_number = BordaVoting(preferences_matrix, num_voters)\n",
    "print(f\"The winner according to Borda Voting Rule \\033[1m\\n\\tWinner: {borda_winner} \\033[0m with {borda_winner_votes_number} votes\")"
   ]
  },
  {
   "cell_type": "code",
   "execution_count": 101,
   "id": "4c1ad0cc",
   "metadata": {},
   "outputs": [],
   "source": [
    "def check_percentage_best_candidate(preferences_matrix, num_voters):\n",
    "    # Initialize a dictionary to store the number of voters for each candidate\n",
    "    candidate_votes = {}\n",
    "\n",
    "    # Loop through the voters and preferences to count the number of voters for each candidate\n",
    "    for i in range(len(num_voters)):\n",
    "        best_candidate = preferences_matrix[i][0]\n",
    "        if best_candidate not in candidate_votes:\n",
    "            candidate_votes[best_candidate] = 0\n",
    "        candidate_votes[best_candidate] += num_voters[i]\n",
    "\n",
    "    # Find the maximum number of votes\n",
    "    max_num_voters = max(candidate_votes.values())\n",
    "\n",
    "    # Calculate the percentage of voters with the best candidate(s)\n",
    "    percentage_same_best = (max_num_voters / np.sum(num_voters)) * 100\n",
    "\n",
    "    return percentage_same_best"
   ]
  },
  {
   "cell_type": "code",
   "execution_count": 102,
   "id": "f3c1c4d8",
   "metadata": {},
   "outputs": [],
   "source": [
    "def check_percentage_different_preferences(preferences_matrix, num_voters):\n",
    "    # Create a set to store unique preference combinations\n",
    "    unique_preferences = set()\n",
    "\n",
    "    num_preferences = preferences_matrix.shape[1]  # Get the number of preferences\n",
    "\n",
    "    for i in range(len(num_voters)):\n",
    "        # Convert the voter's preferences to a tuple to make it hashable\n",
    "        preference_tuple = tuple(preferences_matrix[i])\n",
    "\n",
    "        # Add the preference combination to the set\n",
    "        unique_preferences.add(preference_tuple)\n",
    "    # Calculate the percentage of different preferences\n",
    "    percentage_different_preferences = (len(unique_preferences) / np.sum(num_voters)) * 100\n",
    "\n",
    "    return percentage_different_preferences"
   ]
  },
  {
   "cell_type": "code",
   "execution_count": 103,
   "id": "94353d03",
   "metadata": {},
   "outputs": [
    {
     "name": "stdout",
     "output_type": "stream",
     "text": [
      "Percentage of voters with the same 'best candidate': 51.02040816326531%\n"
     ]
    }
   ],
   "source": [
    "percentage_same_best = check_percentage_best_candidate(preferences_matrix, num_voters)\n",
    "print(f\"Percentage of voters with the same 'best candidate': {percentage_same_best}%\")"
   ]
  },
  {
   "cell_type": "code",
   "execution_count": 104,
   "id": "824c1623",
   "metadata": {},
   "outputs": [
    {
     "name": "stdout",
     "output_type": "stream",
     "text": [
      "Percentage of voters with different preferances: 10.204081632653061%\n"
     ]
    }
   ],
   "source": [
    "percentage_different = check_percentage_different_preferences(preferences_matrix, num_voters)\n",
    "print(f\"Percentage of voters with different preferances: {percentage_different}%\")"
   ]
  },
  {
   "cell_type": "code",
   "execution_count": null,
   "id": "ddcc21ff",
   "metadata": {},
   "outputs": [],
   "source": []
  }
 ],
 "metadata": {
  "kernelspec": {
   "display_name": "Python 3 (ipykernel)",
   "language": "python",
   "name": "python3"
  },
  "language_info": {
   "codemirror_mode": {
    "name": "ipython",
    "version": 3
   },
   "file_extension": ".py",
   "mimetype": "text/x-python",
   "name": "python",
   "nbconvert_exporter": "python",
   "pygments_lexer": "ipython3",
   "version": "3.11.5"
  }
 },
 "nbformat": 4,
 "nbformat_minor": 5
}
