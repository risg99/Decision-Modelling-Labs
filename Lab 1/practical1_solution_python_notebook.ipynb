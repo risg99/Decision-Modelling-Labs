{
 "cells": [
  {
   "cell_type": "markdown",
   "id": "a33aa9b9-cfb4-45d5-b59f-caafc0d6b71f",
   "metadata": {},
   "source": [
    "### Installing libraries"
   ]
  },
  {
   "cell_type": "code",
   "execution_count": 37,
   "id": "d3388889-a75a-45e1-8777-ec790f4297d6",
   "metadata": {},
   "outputs": [
    {
     "name": "stdout",
     "output_type": "stream",
     "text": [
      "Requirement already satisfied: networkx in c:\\users\\rishika gupta\\appdata\\local\\programs\\python\\python39\\lib\\site-packages (from -r requirements.txt (line 1)) (3.1)\n",
      "Requirement already satisfied: pandas in c:\\users\\rishika gupta\\appdata\\roaming\\python\\python39\\site-packages (from -r requirements.txt (line 2)) (1.4.0)\n",
      "Requirement already satisfied: matplotlib in c:\\users\\rishika gupta\\appdata\\local\\programs\\python\\python39\\lib\\site-packages (from -r requirements.txt (line 3)) (3.7.1)\n",
      "Requirement already satisfied: numpy in c:\\users\\rishika gupta\\appdata\\local\\programs\\python\\python39\\lib\\site-packages (from -r requirements.txt (line 4)) (1.22.3)\n",
      "Requirement already satisfied: python-dateutil>=2.8.1 in c:\\users\\rishika gupta\\appdata\\local\\programs\\python\\python39\\lib\\site-packages (from pandas->-r requirements.txt (line 2)) (2.8.2)\n",
      "Requirement already satisfied: pytz>=2020.1 in c:\\users\\rishika gupta\\appdata\\local\\programs\\python\\python39\\lib\\site-packages (from pandas->-r requirements.txt (line 2)) (2020.1)\n",
      "Requirement already satisfied: contourpy>=1.0.1 in c:\\users\\rishika gupta\\appdata\\local\\programs\\python\\python39\\lib\\site-packages (from matplotlib->-r requirements.txt (line 3)) (1.0.5)\n",
      "Requirement already satisfied: cycler>=0.10 in c:\\users\\rishika gupta\\appdata\\local\\programs\\python\\python39\\lib\\site-packages (from matplotlib->-r requirements.txt (line 3)) (0.11.0)\n",
      "Requirement already satisfied: fonttools>=4.22.0 in c:\\users\\rishika gupta\\appdata\\local\\programs\\python\\python39\\lib\\site-packages (from matplotlib->-r requirements.txt (line 3)) (4.38.0)\n",
      "Requirement already satisfied: kiwisolver>=1.0.1 in c:\\users\\rishika gupta\\appdata\\local\\programs\\python\\python39\\lib\\site-packages (from matplotlib->-r requirements.txt (line 3)) (1.4.4)\n",
      "Requirement already satisfied: packaging>=20.0 in c:\\users\\rishika gupta\\appdata\\local\\programs\\python\\python39\\lib\\site-packages (from matplotlib->-r requirements.txt (line 3)) (21.3)\n",
      "Requirement already satisfied: pillow>=6.2.0 in c:\\users\\rishika gupta\\appdata\\local\\programs\\python\\python39\\lib\\site-packages (from matplotlib->-r requirements.txt (line 3)) (9.1.1)\n",
      "Requirement already satisfied: pyparsing>=2.3.1 in c:\\users\\rishika gupta\\appdata\\local\\programs\\python\\python39\\lib\\site-packages (from matplotlib->-r requirements.txt (line 3)) (3.0.9)\n",
      "Requirement already satisfied: importlib-resources>=3.2.0 in c:\\users\\rishika gupta\\appdata\\local\\programs\\python\\python39\\lib\\site-packages (from matplotlib->-r requirements.txt (line 3)) (5.12.0)\n",
      "Requirement already satisfied: zipp>=3.1.0 in c:\\users\\rishika gupta\\appdata\\local\\programs\\python\\python39\\lib\\site-packages (from importlib-resources>=3.2.0->matplotlib->-r requirements.txt (line 3)) (3.10.0)\n",
      "Requirement already satisfied: six>=1.5 in c:\\users\\rishika gupta\\appdata\\local\\programs\\python\\python39\\lib\\site-packages (from python-dateutil>=2.8.1->pandas->-r requirements.txt (line 2)) (1.15.0)\n"
     ]
    },
    {
     "name": "stderr",
     "output_type": "stream",
     "text": [
      "WARNING: Ignoring invalid distribution -atplotlib (c:\\users\\rishika gupta\\appdata\\local\\programs\\python\\python39\\lib\\site-packages)\n",
      "WARNING: Ignoring invalid distribution -atplotlib (c:\\users\\rishika gupta\\appdata\\local\\programs\\python\\python39\\lib\\site-packages)\n"
     ]
    }
   ],
   "source": [
    "!pip install -r requirements.txt"
   ]
  },
  {
   "cell_type": "markdown",
   "id": "f579624d-5f57-4344-9a2a-512e681567a3",
   "metadata": {},
   "source": [
    "### Importing libraries"
   ]
  },
  {
   "cell_type": "code",
   "execution_count": 38,
   "id": "9fd0dfe7-8dec-41f8-8afe-ce024b50d6d4",
   "metadata": {},
   "outputs": [],
   "source": [
    "import os\n",
    "import pandas as pd\n",
    "import numpy as np\n",
    "import numpy.matrixlib as npmat\n",
    "import networkx as nx\n",
    "import matplotlib.pyplot as plt"
   ]
  },
  {
   "cell_type": "markdown",
   "id": "72b89aee-e6b5-48c0-9630-674711c9f672",
   "metadata": {},
   "source": [
    "### Helping functions"
   ]
  },
  {
   "cell_type": "code",
   "execution_count": 39,
   "id": "9dc27440-17c0-4130-9ae6-955dfae22447",
   "metadata": {},
   "outputs": [],
   "source": [
    "def csv_to_matrix(csv_file):\n",
    "    \"\"\"\n",
    "    Returns a matrix from a csv file\n",
    "    \"\"\"\n",
    "    return npmat.asmatrix(pd.read_csv(csv_file, header = None).to_numpy())\n",
    "\n",
    "def matrix_to_graph(matrix):\n",
    "    \"\"\"\n",
    "    Returns a network graph converted from a numpy matrix\n",
    "    \"\"\"\n",
    "    if isinstance(matrix, npmat.matrix):\n",
    "        return nx.from_numpy_array(matrix, create_using = nx.DiGraph())\n",
    "    return matrix\n",
    "\n",
    "def graph_to_matrix(G):\n",
    "    \"\"\"\n",
    "    Returns a numpy matrix from a network graph\n",
    "    \"\"\"\n",
    "    if isinstance(G, nx.Graph):\n",
    "        return nx.to_numpy_matrix(G)\n",
    "    return G"
   ]
  },
  {
   "cell_type": "markdown",
   "id": "5a7b5a82-dd17-44f8-ac14-cf5f8ae9d3c0",
   "metadata": {},
   "source": [
    "### Loading data"
   ]
  },
  {
   "cell_type": "code",
   "execution_count": 40,
   "id": "3cbd6bea-c96b-45df-b4cf-495c3dfe597d",
   "metadata": {},
   "outputs": [],
   "source": [
    "data_file = os.path.join(os.getcwd(), 'data.xlsx')"
   ]
  },
  {
   "cell_type": "markdown",
   "id": "e59380d1-35f4-4178-9904-3816db7c8fbe",
   "metadata": {
    "tags": []
   },
   "source": [
    "### 1. Python function converting an Excel file (.xls or .xlsx) to a .csv file."
   ]
  },
  {
   "cell_type": "code",
   "execution_count": 41,
   "id": "46a70616-a8e9-4927-9e22-d694c741ef30",
   "metadata": {},
   "outputs": [],
   "source": [
    "def convert_excel_to_csv(excel_file):\n",
    "    \"\"\"\n",
    "    Converts an excel file to csv file\n",
    "    \"\"\"\n",
    "    df = pd.read_excel(excel_file, header = None)\n",
    "    df.to_csv(excel_file.replace(excel_file.split('.')[-1],'csv'), header = None, index = False)\n",
    "\n",
    "convert_excel_to_csv(data_file)"
   ]
  },
  {
   "cell_type": "markdown",
   "id": "95949ba1-365f-40b8-9da4-de3157574de1",
   "metadata": {
    "tags": []
   },
   "source": [
    "### 2. Python function for a graphical representation of the matrix using networkx and matplotlib."
   ]
  },
  {
   "cell_type": "code",
   "execution_count": 42,
   "id": "56552f74-dfe8-4c7c-a422-893999d629d9",
   "metadata": {},
   "outputs": [
    {
     "data": {
      "text/plain": [
       "matrix([[0, 0, 0, 0, 0, 0],\n",
       "        [0, 0, 0, 0, 0, 0],\n",
       "        [0, 0, 0, 1, 0, 0],\n",
       "        [0, 1, 0, 0, 0, 0],\n",
       "        [1, 1, 0, 0, 0, 0],\n",
       "        [1, 0, 1, 0, 0, 0]], dtype=int64)"
      ]
     },
     "execution_count": 42,
     "metadata": {},
     "output_type": "execute_result"
    }
   ],
   "source": [
    "matrix = csv_to_matrix(data_file.replace(data_file.split('.')[-1],'csv'))\n",
    "matrix"
   ]
  },
  {
   "cell_type": "code",
   "execution_count": 43,
   "id": "c33b2758-a4b7-4231-9ebc-b7d0096953b0",
   "metadata": {},
   "outputs": [
    {
     "data": {
      "image/png": "[encoded data removed]",
      "text/plain": [
       "<Figure size 500x500 with 1 Axes>"
      ]
     },
     "metadata": {},
     "output_type": "display_data"
    }
   ],
   "source": [
    "def visualize_binary_relation(my_matrix):\n",
    "    \"\"\"\n",
    "    Plots the binary relation as a graph\n",
    "    \"\"\"\n",
    "    if isinstance(my_matrix, npmat.matrix):\n",
    "        n_rows, n_cols = my_matrix.shape\n",
    "        if n_rows != n_cols:\n",
    "            print('Binary relation is not of the form m x m')\n",
    "            return\n",
    "        elif n_rows < 3 or n_cols < 3 or n_rows > 20 or n_cols > 20:\n",
    "            print('Binary relation matrix is not of the form m x m with 3 <= m <= 20')\n",
    "            return\n",
    "        visualize_graph = matrix_to_graph(my_matrix)\n",
    "    plt.figure(figsize = (5,5)) \n",
    "    nx.draw(visualize_graph, with_labels = True, font_weight = \"bold\", node_size = 1500)\n",
    "    plt.show()\n",
    "                  \n",
    "visualize_binary_relation(matrix)"
   ]
  },
  {
   "cell_type": "markdown",
   "id": "d09fd3bb-cb54-45a7-8ffa-765c8b5ab7e2",
   "metadata": {
    "tags": []
   },
   "source": [
    "### 3. Python function CompleteCheck testing if a binary relation is complete."
   ]
  },
  {
   "cell_type": "code",
   "execution_count": 44,
   "id": "949a1e56-68ee-4c13-b99c-fc43b101e535",
   "metadata": {},
   "outputs": [
    {
     "name": "stdout",
     "output_type": "stream",
     "text": [
      "Relation is not complete.\n"
     ]
    },
    {
     "data": {
      "text/plain": [
       "False"
      ]
     },
     "execution_count": 44,
     "metadata": {},
     "output_type": "execute_result"
    }
   ],
   "source": [
    "def CompleteCheck(matrix):\n",
    "    \"\"\"\n",
    "    Checks if the binary relation is complete\n",
    "    \"\"\"\n",
    "    n_row, n_col = matrix.shape\n",
    "    for row in range(n_row):\n",
    "        for col in range(n_col):\n",
    "            if matrix[row,col] == 0 and matrix[col,row] == 0:\n",
    "                print('Relation is not complete.')\n",
    "                return False\n",
    "    return True\n",
    "\n",
    "CompleteCheck(matrix)"
   ]
  },
  {
   "cell_type": "markdown",
   "id": "46d59d1e-720b-4ba5-8d83-e52c86ac5378",
   "metadata": {
    "tags": []
   },
   "source": [
    "### 4. Python function ReflexiveCheck testing if a binary relation is reflexive."
   ]
  },
  {
   "cell_type": "code",
   "execution_count": 45,
   "id": "5ee9a256-e3d7-42ba-8c9c-d3e93378310e",
   "metadata": {},
   "outputs": [
    {
     "name": "stdout",
     "output_type": "stream",
     "text": [
      "Relation is not reflexive.\n"
     ]
    },
    {
     "data": {
      "text/plain": [
       "False"
      ]
     },
     "execution_count": 45,
     "metadata": {},
     "output_type": "execute_result"
    }
   ],
   "source": [
    "def ReflexiveCheck(matrix):\n",
    "    \"\"\"\n",
    "    Checks if the binary relation is reflexive\n",
    "    \"\"\"\n",
    "    if not (np.all(np.diagonal(matrix) == 1)):\n",
    "        print('Relation is not reflexive.')\n",
    "        return False\n",
    "    return True\n",
    "            \n",
    "ReflexiveCheck(matrix)"
   ]
  },
  {
   "cell_type": "markdown",
   "id": "18edaa61-e421-445b-9182-28aadeac7d3e",
   "metadata": {
    "tags": []
   },
   "source": [
    "### 5. Python function AsymmetricCheck testing if a binary relation is asymmetric."
   ]
  },
  {
   "cell_type": "code",
   "execution_count": 46,
   "id": "c1e8adbc-3731-4b90-b47a-5cd3f5c6d39a",
   "metadata": {},
   "outputs": [
    {
     "name": "stdout",
     "output_type": "stream",
     "text": [
      "Relation is not asymmetric.\n"
     ]
    },
    {
     "data": {
      "text/plain": [
       "False"
      ]
     },
     "execution_count": 46,
     "metadata": {},
     "output_type": "execute_result"
    }
   ],
   "source": [
    "def AsymmetricCheck(matrix):\n",
    "    \"\"\"\n",
    "    Checks if the binary relation is asymmetric\n",
    "    \"\"\"\n",
    "    if np.any(matrix == matrix.transpose()):\n",
    "        print('Relation is not asymmetric.')\n",
    "        return False\n",
    "    return True\n",
    "\n",
    "AsymmetricCheck(matrix)"
   ]
  },
  {
   "cell_type": "markdown",
   "id": "703fce4a-ad79-48b9-ba18-522ac9b0df7c",
   "metadata": {
    "tags": []
   },
   "source": [
    "### 6. Python function SymmetricCheck testing if a binary relation is symmetric."
   ]
  },
  {
   "cell_type": "code",
   "execution_count": 47,
   "id": "145b0928-33ab-423e-9f2e-e906af5bc01d",
   "metadata": {},
   "outputs": [
    {
     "name": "stdout",
     "output_type": "stream",
     "text": [
      "Relation is not symmetric.\n"
     ]
    },
    {
     "data": {
      "text/plain": [
       "False"
      ]
     },
     "execution_count": 47,
     "metadata": {},
     "output_type": "execute_result"
    }
   ],
   "source": [
    "def SymmetricCheck(matrix):\n",
    "    \"\"\"\n",
    "    Checks if the binary relation is symmetric\n",
    "    \"\"\"\n",
    "    if not (np.all(matrix == matrix.transpose())):\n",
    "        print('Relation is not symmetric.')\n",
    "        return False\n",
    "    return True\n",
    "\n",
    "SymmetricCheck(matrix)"
   ]
  },
  {
   "cell_type": "markdown",
   "id": "1eb973ec-25cf-4226-af6f-0d45411378e6",
   "metadata": {
    "tags": []
   },
   "source": [
    "### 7. Python function AntisymmetricCheck testing if a binary relation is antisymmetric."
   ]
  },
  {
   "cell_type": "code",
   "execution_count": 48,
   "id": "edf1d8be-72e0-4e91-9e4f-868519a1bb98",
   "metadata": {},
   "outputs": [
    {
     "data": {
      "text/plain": [
       "True"
      ]
     },
     "execution_count": 48,
     "metadata": {},
     "output_type": "execute_result"
    }
   ],
   "source": [
    "def AntisymmetricCheck(matrix):\n",
    "    \"\"\"\n",
    "    Checks if the binary relation is antisymmetric\n",
    "    \"\"\"\n",
    "    n_row, n_col = matrix.shape\n",
    "    for row in range(n_row):\n",
    "        for col in range(n_col):\n",
    "            if matrix[row,col] == 1 and matrix[col,row] == 1 and row != col:\n",
    "                print('Relation is not antisymmetric.')\n",
    "                return False\n",
    "    return True\n",
    "\n",
    "AntisymmetricCheck(matrix)"
   ]
  },
  {
   "cell_type": "markdown",
   "id": "92bda2b9-f033-4e67-bffb-2244733cc852",
   "metadata": {
    "tags": []
   },
   "source": [
    "### 8. Python function TransitiveCheck testing if a binary relation is transitive."
   ]
  },
  {
   "cell_type": "code",
   "execution_count": 49,
   "id": "d11eb718-a746-4db2-a3d4-0ce9c0005499",
   "metadata": {},
   "outputs": [
    {
     "name": "stdout",
     "output_type": "stream",
     "text": [
      "Relation is not transitive.\n"
     ]
    },
    {
     "data": {
      "text/plain": [
       "False"
      ]
     },
     "execution_count": 49,
     "metadata": {},
     "output_type": "execute_result"
    }
   ],
   "source": [
    "def TransitiveCheck(matrix):\n",
    "    \"\"\" \n",
    "    Checks if the binary relation is transitive\n",
    "    \"\"\"\n",
    "    n_row, n_col = matrix.shape\n",
    "    for i in range(n_row):\n",
    "        for j in range(n_col):\n",
    "            for k in range(n_col):\n",
    "                if matrix[i,j] == 1 and matrix[j,k] == 1 and matrix[i,k] != 1:\n",
    "                    print('Relation is not transitive.')\n",
    "                    return False\n",
    "    return True\n",
    "\n",
    "TransitiveCheck(matrix)"
   ]
  },
  {
   "cell_type": "markdown",
   "id": "cb3c7d99-0dbb-4a8f-9116-9fe091def5c5",
   "metadata": {
    "tags": []
   },
   "source": [
    "### 9. Python function NegativeTransitiveCheck testing if a binary relation is negative transitive."
   ]
  },
  {
   "cell_type": "code",
   "execution_count": 50,
   "id": "2a024346-2db3-46ee-a6a9-222eef56886b",
   "metadata": {},
   "outputs": [
    {
     "name": "stdout",
     "output_type": "stream",
     "text": [
      "Relation is not negative transitive.\n"
     ]
    },
    {
     "data": {
      "text/plain": [
       "False"
      ]
     },
     "execution_count": 50,
     "metadata": {},
     "output_type": "execute_result"
    }
   ],
   "source": [
    "def NegativeTransitiveCheck(matrix):\n",
    "    \"\"\"\n",
    "    Checks if the binary relation is negative transitive\n",
    "    \"\"\"\n",
    "    n_row, n_col = matrix.shape\n",
    "    for i in range(n_row):\n",
    "        for j in range(n_col):\n",
    "            for k in range(n_col):\n",
    "                if matrix[i,j] == 0 and matrix[j,k] == 0 and matrix[i,k] == 1:\n",
    "                    print('Relation is not negative transitive.')\n",
    "                    return False\n",
    "    return True\n",
    "\n",
    "NegativeTransitiveCheck(matrix)"
   ]
  },
  {
   "cell_type": "markdown",
   "id": "176ad14c-372a-4323-8f67-9b118013ae2a",
   "metadata": {
    "tags": []
   },
   "source": [
    "### 10. Python function CompleteOrderCheck testing if a binary relation is a total order."
   ]
  },
  {
   "cell_type": "code",
   "execution_count": 51,
   "id": "21a339f1-9651-43c4-8d28-7dadd8759e46",
   "metadata": {},
   "outputs": [
    {
     "name": "stdout",
     "output_type": "stream",
     "text": [
      "Relation is not complete.\n",
      "Relation is not a complete order.\n"
     ]
    },
    {
     "data": {
      "text/plain": [
       "False"
      ]
     },
     "execution_count": 51,
     "metadata": {},
     "output_type": "execute_result"
    }
   ],
   "source": [
    "def CompleteOrderCheck(matrix):\n",
    "    \"\"\"\n",
    "    Checks if the binary relation is a total order\n",
    "    \"\"\"\n",
    "    if not (CompleteCheck(matrix) and AntisymmetricCheck(matrix) and TransitiveCheck(matrix)):\n",
    "        print('Relation is not a complete order.')\n",
    "        return False\n",
    "    return True\n",
    "\n",
    "CompleteOrderCheck(matrix)"
   ]
  },
  {
   "cell_type": "markdown",
   "id": "8b0747f2-f68d-4d70-b065-dfb85ffe1964",
   "metadata": {
    "tags": []
   },
   "source": [
    "### 11. Python function CompletePreOrderCheck testing if a binary relation is a preorder."
   ]
  },
  {
   "cell_type": "code",
   "execution_count": 52,
   "id": "c963583a-fae3-4220-be90-a3d2b99bed54",
   "metadata": {},
   "outputs": [
    {
     "name": "stdout",
     "output_type": "stream",
     "text": [
      "Relation is not complete.\n",
      "Relation is not a complete preorder.\n"
     ]
    },
    {
     "data": {
      "text/plain": [
       "False"
      ]
     },
     "execution_count": 52,
     "metadata": {},
     "output_type": "execute_result"
    }
   ],
   "source": [
    "def CompletePreOrderCheck(matrix):\n",
    "    \"\"\"\n",
    "    Checks if the binary relation is a preorder\n",
    "    \"\"\"\n",
    "    if not (CompleteCheck(matrix) and TransitiveCheck(matrix)):\n",
    "        print('Relation is not a complete preorder.')\n",
    "        return False\n",
    "    return True\n",
    "\n",
    "CompletePreOrderCheck(matrix)"
   ]
  },
  {
   "cell_type": "markdown",
   "id": "dcd05869-264d-4d9f-a1e9-dec9009089bc",
   "metadata": {
    "tags": []
   },
   "source": [
    "### 12. Python function StrictRelation returning the asymmetric part of a binary relation."
   ]
  },
  {
   "cell_type": "code",
   "execution_count": 53,
   "id": "9f403f61-6786-4eaa-babc-0a0977ea168a",
   "metadata": {},
   "outputs": [
    {
     "data": {
      "text/plain": [
       "matrix([[0, 0, 0, 0, 0, 0],\n",
       "        [0, 0, 0, 0, 0, 0],\n",
       "        [0, 0, 0, 1, 0, 0],\n",
       "        [0, 1, 0, 0, 0, 0],\n",
       "        [1, 1, 0, 0, 0, 0],\n",
       "        [1, 0, 1, 0, 0, 0]], dtype=int64)"
      ]
     },
     "execution_count": 53,
     "metadata": {},
     "output_type": "execute_result"
    }
   ],
   "source": [
    "def StrictRelation(matrix):\n",
    "    \"\"\"\n",
    "    Returns the asymmetric part of a binary relation\n",
    "    \"\"\"\n",
    "    output_matrix = matrix.copy()\n",
    "    \n",
    "    n_row, n_col = matrix.shape\n",
    "    for row in range(n_row):\n",
    "        for col in range(n_col):\n",
    "            if matrix[row,col] == matrix[col,row] and matrix[row,col] == 1:\n",
    "                output_matrix[row,col] = 0\n",
    "                output_matrix[col,row] = 0  \n",
    "    return output_matrix\n",
    "\n",
    "StrictRelation(matrix)"
   ]
  },
  {
   "cell_type": "markdown",
   "id": "fc9ee530-241d-4ddc-becb-78d29ce844ff",
   "metadata": {
    "tags": []
   },
   "source": [
    "### 13. Python function IndifferenceRelation returning the symmetric part of a binary relation."
   ]
  },
  {
   "cell_type": "code",
   "execution_count": 54,
   "id": "e8d33ad6-1334-4b09-bcf9-14f4c0b62eb3",
   "metadata": {},
   "outputs": [
    {
     "data": {
      "text/plain": [
       "array([[0, 0, 0, 0, 0, 0],\n",
       "       [0, 0, 0, 0, 0, 0],\n",
       "       [0, 0, 0, 0, 0, 0],\n",
       "       [0, 0, 0, 0, 0, 0],\n",
       "       [0, 0, 0, 0, 0, 0],\n",
       "       [0, 0, 0, 0, 0, 0]])"
      ]
     },
     "execution_count": 54,
     "metadata": {},
     "output_type": "execute_result"
    }
   ],
   "source": [
    "def IndifferenceRelation(matrix):\n",
    "    \"\"\"\n",
    "    Returns the symmetric part of a binary relation\n",
    "    \"\"\"\n",
    "    output_matrix = np.zeros(matrix.shape, dtype = int)\n",
    "    \n",
    "    n_row, n_col = matrix.shape\n",
    "    for row in range(n_row):\n",
    "        for col in range(n_col):\n",
    "            if matrix[row,col] == matrix[col,row] and matrix[row,col] == 1:\n",
    "                output_matrix[row,col] = 1\n",
    "                output_matrix[col,row] = 1  \n",
    "    return output_matrix\n",
    "\n",
    "IndifferenceRelation(matrix)"
   ]
  },
  {
   "cell_type": "markdown",
   "id": "24ede266-ad45-4eb9-bb9d-ec3bac40fae7",
   "metadata": {
    "tags": []
   },
   "source": [
    "### 14. Python function Topologicalsorting returning a topological sorting of a given binary relation without cycles."
   ]
  },
  {
   "cell_type": "code",
   "execution_count": 55,
   "id": "f0ac0290",
   "metadata": {},
   "outputs": [],
   "source": [
    "# Alternative way to check if the adjacency matrix has a cycle or not\n",
    "\n",
    "# def DirectedAcyclicGraphCheck(matrix):\n",
    "#     \"\"\"\n",
    "#     Checks if the binary relation is a DAG\n",
    "#     \"\"\"\n",
    "#     n = matrix.shape[0]\n",
    "#     for i in range(2, n+1):\n",
    "#         exponent_matrix = np.linalg.matrix_power(matrix, i)\n",
    "#         trace_value = np.trace(exponent_matrix)\n",
    "\n",
    "#         if trace_value != 0:\n",
    "#             print('Relation contains a cycle.')\n",
    "#             return False\n",
    "#     return True"
   ]
  },
  {
   "cell_type": "code",
   "execution_count": 56,
   "id": "8b7395a5",
   "metadata": {},
   "outputs": [],
   "source": [
    "# This code is inspired by the source - https://www.geeksforgeeks.org/detect-cycle-in-a-graph/\n",
    "\n",
    "# from collections import deque\n",
    "# def DirectedAcyclicGraphCheck(matrix):  \n",
    "#     \"\"\"\n",
    "#     Checks if the binary relation is a DAG\n",
    "#     \"\"\"\n",
    "#     n = matrix.shape[0]\n",
    "#     indegree = [0] * n\n",
    "#     q = deque()\n",
    "#     visited = 0\n",
    "\n",
    "#     for u in range(n):\n",
    "#         for v in range(n):\n",
    "#             if matrix[u,v]:\n",
    "#                 indegree[v] += 1\n",
    "\n",
    "#     for u in range(n):\n",
    "#         if indegree[u] == 0:\n",
    "#             q.append(u)\n",
    "\n",
    "#     while q:\n",
    "#         u = q.popleft()\n",
    "#         visited += 1\n",
    "\n",
    "#         for v in range(n):\n",
    "#             indegree[v] -= 1\n",
    "#             if indegree[v] == 0:\n",
    "#                 q.append(v)\n",
    "\n",
    "#     if visited != n:\n",
    "#         return True\n",
    "#     return False\n",
    "\n",
    "# DirectedAcyclicGraphCheck(matrix)"
   ]
  },
  {
   "cell_type": "code",
   "execution_count": 57,
   "id": "b51876a1",
   "metadata": {},
   "outputs": [
    {
     "name": "stdout",
     "output_type": "stream",
     "text": [
      "[[0 0 0 0 0 0]\n",
      " [0 0 0 0 0 0]\n",
      " [0 0 0 1 0 0]\n",
      " [0 1 0 0 0 0]\n",
      " [1 1 0 0 0 0]\n",
      " [1 0 1 0 0 0]]\n",
      "Topological sorting for this relation is:\n",
      "4 -> 5 -> 2 -> 3 -> 0 -> 1\n"
     ]
    }
   ],
   "source": [
    "# This code is inspired by the source - https://www.geeksforgeeks.org/topological-sorting-indegree-based-solution/\n",
    "\n",
    "def Topologicalsorting(matrix): \n",
    "    \"\"\"\n",
    "    Returns the topological sorting of a binary relation without cycles\n",
    "    \"\"\"\n",
    "    print(matrix)\n",
    "    n = matrix.shape[0]\n",
    "    indegree = [0] * n\n",
    "    stack = []\n",
    "\n",
    "    for u in range(n):\n",
    "        for v in range(n):\n",
    "            if matrix[u,v]:\n",
    "                indegree[v] += 1\n",
    "\n",
    "    for u in range(n):\n",
    "        if indegree[u] == 0:\n",
    "            stack.append(u)\n",
    "\n",
    "    count = 0\n",
    "\n",
    "    top_order = []\n",
    "\n",
    "    while stack:\n",
    "        u = stack.pop(0)\n",
    "        top_order.append(u)\n",
    "\n",
    "        for v in range(n):\n",
    "            indegree[v] -= 1\n",
    "            if indegree[v] == 0:\n",
    "                stack.append(v)\n",
    "        count += 1\n",
    "\n",
    "    if count == n:\n",
    "        return(top_order)\n",
    "    else:\n",
    "        print('Cannot have a topological sorting for this relation, since it has cycles.')\n",
    "        return None\n",
    "\n",
    "    \n",
    "order = Topologicalsorting(matrix)\n",
    "if order is not None:\n",
    "    print('Topological sorting for this relation is:')\n",
    "    print(' -> '.join(str(x) for x in order))"
   ]
  },
  {
   "cell_type": "markdown",
   "id": "2057c388-ebc4-4125-9dc3-8b505cfd4538",
   "metadata": {},
   "source": [
    "### 15. Creating test functions for the matrix:\n",
    "Binary relation B on the set of X = {a, b, c, d, e, f}, which is defined as follows:\n",
    "\n",
    "| | a | b | c | d | e | f |\n",
    "|:-:|:-:|:-:|:-:|:-:|:-:|:-:|\n",
    "| a | 1 | 1 | 1 | 1 | 1 | 1 |\n",
    "| b | 0 | 1 | 1 | 1 | 1 | 1 |\n",
    "| c | 0 | 0 | 1 | 1 | 1 | 1 |\n",
    "| d | 0 | 1 | 1 | 1 | 1 | 0 |\n",
    "| e | 0 | 0 | 0 | 1 | 1 | 1 |\n",
    "| f | 0 | 0 | 0 | 0 | 1 | 1 |"
   ]
  },
  {
   "cell_type": "code",
   "execution_count": 58,
   "id": "51783269-64fe-44c2-ae4a-cd17e649ee52",
   "metadata": {},
   "outputs": [],
   "source": [
    "matrix = np.matrix([[1, 1, 1, 1, 1, 1],\n",
    "         [0, 1, 1, 1, 1, 1],\n",
    "         [0, 0, 1, 1, 1, 1],\n",
    "         [0, 1, 1, 1, 1, 0],\n",
    "         [0, 0, 0, 1, 1, 1],\n",
    "         [0, 0, 0, 0, 1, 1]])"
   ]
  },
  {
   "cell_type": "code",
   "execution_count": 59,
   "id": "9b0fb817-b2ce-4d2a-98a0-9e7a07b5a835",
   "metadata": {},
   "outputs": [
    {
     "name": "stdout",
     "output_type": "stream",
     "text": [
      "Relation is not complete.\n"
     ]
    }
   ],
   "source": [
    "if CompleteCheck(matrix):\n",
    "    print('Relation is complete.')"
   ]
  },
  {
   "cell_type": "code",
   "execution_count": 60,
   "id": "dec854b2-4f00-4c44-8abf-c35e83fd767a",
   "metadata": {},
   "outputs": [
    {
     "name": "stdout",
     "output_type": "stream",
     "text": [
      "Relation is reflexive.\n"
     ]
    }
   ],
   "source": [
    "if ReflexiveCheck(matrix):\n",
    "    print('Relation is reflexive.')"
   ]
  },
  {
   "cell_type": "code",
   "execution_count": 61,
   "id": "8455a081-2135-430f-997a-7776d5e4f253",
   "metadata": {},
   "outputs": [
    {
     "name": "stdout",
     "output_type": "stream",
     "text": [
      "Relation is not asymmetric.\n"
     ]
    }
   ],
   "source": [
    "if AsymmetricCheck(matrix):\n",
    "    print('Relation is asymmetric.')"
   ]
  },
  {
   "cell_type": "code",
   "execution_count": 62,
   "id": "496faad8-d6f3-424a-89a2-3a62724c3290",
   "metadata": {},
   "outputs": [
    {
     "name": "stdout",
     "output_type": "stream",
     "text": [
      "Relation is not symmetric.\n"
     ]
    }
   ],
   "source": [
    "if SymmetricCheck(matrix):\n",
    "    print('Relation is symmetric.')"
   ]
  },
  {
   "cell_type": "code",
   "execution_count": 63,
   "id": "17818c84-bc95-44a3-8edd-120b3765de8d",
   "metadata": {},
   "outputs": [
    {
     "name": "stdout",
     "output_type": "stream",
     "text": [
      "Relation is not antisymmetric.\n"
     ]
    }
   ],
   "source": [
    "if AntisymmetricCheck(matrix):\n",
    "    print('Relation is antisymmetric.')"
   ]
  },
  {
   "cell_type": "code",
   "execution_count": 64,
   "id": "4b888e3f-0639-4a74-88f5-5472d823ef75",
   "metadata": {},
   "outputs": [
    {
     "name": "stdout",
     "output_type": "stream",
     "text": [
      "Relation is not transitive.\n"
     ]
    }
   ],
   "source": [
    "if TransitiveCheck(matrix):\n",
    "    print('Relation is transitive.')"
   ]
  },
  {
   "cell_type": "code",
   "execution_count": 65,
   "id": "c2254591-f054-4e19-b063-f37ccdafabec",
   "metadata": {},
   "outputs": [
    {
     "name": "stdout",
     "output_type": "stream",
     "text": [
      "Relation is not negative transitive.\n"
     ]
    }
   ],
   "source": [
    "if NegativeTransitiveCheck(matrix):\n",
    "    print('Relation is negative transitive.')"
   ]
  },
  {
   "cell_type": "code",
   "execution_count": 66,
   "id": "50831bfb-a97c-4144-9705-2c5ff6bf50fe",
   "metadata": {},
   "outputs": [
    {
     "name": "stdout",
     "output_type": "stream",
     "text": [
      "Relation is not complete.\n",
      "Relation is not a complete order.\n"
     ]
    }
   ],
   "source": [
    "if CompleteOrderCheck(matrix):\n",
    "    print('Relation is a complete order.')"
   ]
  },
  {
   "cell_type": "code",
   "execution_count": 67,
   "id": "e1f43d1d-9ec2-4761-970c-51b59de52e1d",
   "metadata": {},
   "outputs": [
    {
     "name": "stdout",
     "output_type": "stream",
     "text": [
      "Relation is not complete.\n",
      "Relation is not a complete preorder.\n"
     ]
    }
   ],
   "source": [
    "if CompletePreOrderCheck(matrix):\n",
    "    print('Relation is a complete preorder.')"
   ]
  },
  {
   "cell_type": "code",
   "execution_count": 68,
   "id": "cb2b4ffb-2fa0-43ae-b07a-91de094439d1",
   "metadata": {},
   "outputs": [
    {
     "name": "stdout",
     "output_type": "stream",
     "text": [
      "Asymmetric part of the relation B is:\n",
      "[[0 1 1 1 1 1]\n",
      " [0 0 1 0 1 1]\n",
      " [0 0 0 0 1 1]\n",
      " [0 0 0 0 0 0]\n",
      " [0 0 0 0 0 0]\n",
      " [0 0 0 0 0 0]]\n"
     ]
    }
   ],
   "source": [
    "print('Asymmetric part of the relation B is:')\n",
    "print(StrictRelation(matrix))"
   ]
  },
  {
   "cell_type": "code",
   "execution_count": 69,
   "id": "2a41c046-58cb-41b1-9092-0b8d7b89ee40",
   "metadata": {},
   "outputs": [
    {
     "name": "stdout",
     "output_type": "stream",
     "text": [
      "Symmetric part of the relation B is:\n",
      "[[1 0 0 0 0 0]\n",
      " [0 1 0 1 0 0]\n",
      " [0 0 1 1 0 0]\n",
      " [0 1 1 1 1 0]\n",
      " [0 0 0 1 1 1]\n",
      " [0 0 0 0 1 1]]\n"
     ]
    }
   ],
   "source": [
    "print('Symmetric part of the relation B is:')\n",
    "print(IndifferenceRelation(matrix))"
   ]
  },
  {
   "cell_type": "code",
   "execution_count": 70,
   "id": "bec74942-6262-42fb-9500-24ef72639a4b",
   "metadata": {},
   "outputs": [
    {
     "name": "stdout",
     "output_type": "stream",
     "text": [
      "[[1 1 1 1 1 1]\n",
      " [0 1 1 1 1 1]\n",
      " [0 0 1 1 1 1]\n",
      " [0 1 1 1 1 0]\n",
      " [0 0 0 1 1 1]\n",
      " [0 0 0 0 1 1]]\n",
      "Cannot have a topological sorting for this relation, since it has cycles.\n",
      "Topological sorting of the relation B is: None\n"
     ]
    }
   ],
   "source": [
    "print(f'Topological sorting of the relation B is: '+ str(Topologicalsorting(matrix)))"
   ]
  }
 ],
 "metadata": {
  "kernelspec": {
   "display_name": "Python 3 (ipykernel)",
   "language": "python",
   "name": "python3"
  },
  "language_info": {
   "codemirror_mode": {
    "name": "ipython",
    "version": 3
   },
   "file_extension": ".py",
   "mimetype": "text/x-python",
   "name": "python",
   "nbconvert_exporter": "python",
   "pygments_lexer": "ipython3",
   "version": "3.9.6"
  }
 },
 "nbformat": 4,
 "nbformat_minor": 5
}
